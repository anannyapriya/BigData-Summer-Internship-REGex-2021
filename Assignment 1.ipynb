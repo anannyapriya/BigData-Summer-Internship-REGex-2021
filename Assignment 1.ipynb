{
 "cells": [
  {
   "cell_type": "markdown",
   "metadata": {},
   "source": [
    "# Task 1\n",
    "# SIRSS2235\n",
    "# Anannya Priyadarshini Neog"
   ]
  },
  {
   "cell_type": "code",
   "execution_count": 1,
   "metadata": {},
   "outputs": [
    {
     "name": "stdout",
     "output_type": "stream",
     "text": [
      "5 5 5 5 5 \n",
      "5 5 5 5 \n",
      "5 5 5 \n",
      "5 5 \n",
      "5 \n"
     ]
    }
   ],
   "source": [
    "#Q1. 5 5 5 5 5 \n",
    "#    5 5 5 5 \n",
    "#    5 5 5 \n",
    "#    5 5 \n",
    "#    5\n",
    "\n",
    "def pat1(r):\n",
    "    n=r\n",
    "    for i in range(r, 0, -1):             #reverse for loop\n",
    "        for j in range(0, i):\n",
    "            print(n, end=' ')             #printing same number\n",
    "        print()\n",
    "    \n",
    "pat1(5)"
   ]
  },
  {
   "cell_type": "code",
   "execution_count": 2,
   "metadata": {},
   "outputs": [
    {
     "name": "stdout",
     "output_type": "stream",
     "text": [
      "0 1 2 3 4 5 \n",
      "0 1 2 3 4 \n",
      "0 1 2 3 \n",
      "0 1 2 \n",
      "0 1 \n"
     ]
    }
   ],
   "source": [
    "#Q2. 0 1 2 3 4 5 \n",
    "#    0 1 2 3 4 \n",
    "#    0 1 2 3 \n",
    "#    0 1 2 \n",
    "#    0 1\n",
    "\n",
    "def pat2(n):\n",
    "    for i in range(n, 0, -1):\n",
    "        for j in range(0, i+1):\n",
    "            print(j, end=\" \")\n",
    "        print()\n",
    "\n",
    "pat2(5)"
   ]
  },
  {
   "cell_type": "code",
   "execution_count": 3,
   "metadata": {},
   "outputs": [
    {
     "name": "stdout",
     "output_type": "stream",
     "text": [
      "1 \n",
      "3 3 \n",
      "5 5 5 \n",
      "7 7 7 7 \n",
      "9 9 9 9 9 \n"
     ]
    }
   ],
   "source": [
    "#Q3. 1 \n",
    "#    3 3 \n",
    "#    5 5 5 \n",
    "#    7 7 7 7 \n",
    "#    9 9 9 9 9\n",
    "\n",
    "n=5\n",
    "i=1\n",
    "while i<=n:\n",
    "    j=1\n",
    "    while j<=i:\n",
    "        print((i*2-1), end=\" \")\n",
    "        j=j+1\n",
    "    i=i+1\n",
    "    print('')"
   ]
  },
  {
   "cell_type": "code",
   "execution_count": 4,
   "metadata": {},
   "outputs": [
    {
     "name": "stdout",
     "output_type": "stream",
     "text": [
      "1  \n",
      "2 1  \n",
      "3 2 1  \n",
      "4 3 2 1  \n",
      "5 4 3 2 1  \n"
     ]
    }
   ],
   "source": [
    "#Q4. 1 \n",
    "#    2 1 \n",
    "#    3 2 1 \n",
    "#    4 3 2 1 \n",
    "#    5 4 3 2 1\n",
    "\n",
    "# #r=6\n",
    "def pat4(r):\n",
    "    for row in range(1, r):\n",
    "        for col in range(row, 0, -1):\n",
    "            print(col, end=\" \")\n",
    "        print(\" \")\n",
    "        \n",
    "pat4(6)"
   ]
  },
  {
   "cell_type": "code",
   "execution_count": 5,
   "metadata": {},
   "outputs": [
    {
     "name": "stdout",
     "output_type": "stream",
     "text": [
      "1 \n",
      "3 2 \n",
      "6 5 4 \n",
      "10 9 8 7 \n"
     ]
    }
   ],
   "source": [
    "#Q5. 1\n",
    "#    3 2\n",
    "#    6 5 4\n",
    "#    10 9 8 7\n",
    "\n",
    "i=1\n",
    "j=2\n",
    "num=j\n",
    "for r in range(2, 6):\n",
    "    for col in range(i, j):\n",
    "        num-=1\n",
    "        print(num, end=' ')\n",
    "    print(\"\")\n",
    "    i=j\n",
    "    j+=r\n",
    "    num=j"
   ]
  },
  {
   "cell_type": "code",
   "execution_count": 6,
   "metadata": {},
   "outputs": [
    {
     "name": "stdout",
     "output_type": "stream",
     "text": [
      "1 \n",
      "1 1 \n",
      "1 2 1 \n",
      "1 3 3 1 \n",
      "1 4 6 4 1 \n",
      "1 5 10 10 5 1 \n",
      "1 6 15 20 15 6 1 \n"
     ]
    }
   ],
   "source": [
    "#Q6. 1 \n",
    "#    1 1 \n",
    "#    1 2 1 \n",
    "#    1 3 3 1 \n",
    "#    1 4 6 4 1 \n",
    "#    1 5 10 10 5 1 \n",
    "#    1 6 15 20 15 6 1\n",
    "\n",
    "def pat6(size):\n",
    "    for i in range(0, size):\n",
    "        for j in range(0, i+1):\n",
    "            print(number(i, j), end=\" \")\n",
    "        print()\n",
    "\n",
    "def number(n, x):\n",
    "    num=1\n",
    "    if x>n-x:\n",
    "        x=n-x\n",
    "    for i in range(0, x):\n",
    "        num=num*(n-i)\n",
    "        num=num//(i+1)\n",
    "    return num\n",
    "\n",
    "r=7          # set rows\n",
    "pat6(r)"
   ]
  },
  {
   "cell_type": "code",
   "execution_count": 7,
   "metadata": {},
   "outputs": [
    {
     "name": "stdout",
     "output_type": "stream",
     "text": [
      "1 2 3 4 5 \n",
      "2 2 3 4 5 \n",
      "3 3 3 4 5 \n",
      "4 4 4 4 5 \n",
      "5 5 5 5 5 \n"
     ]
    }
   ],
   "source": [
    "#Q7. 1 2 3 4 5 \n",
    "#    2 2 3 4 5 \n",
    "#    3 3 3 4 5 \n",
    "#    4 4 4 4 5 \n",
    "#    5 5 5 5 5\n",
    "\n",
    "def pat7(r):  \n",
    "    for i in range(1, r+1):  \n",
    "        for j in range(1, r+1):\n",
    "            if j<=i:                    #if j is smaller than or equal to i then print i otherwise print j\n",
    "                print(i, end=' ')  \n",
    "            else:  \n",
    "                print(j, end=' ')  \n",
    "        print()\n",
    "    \n",
    "pat7(5)"
   ]
  },
  {
   "cell_type": "code",
   "execution_count": 8,
   "metadata": {},
   "outputs": [
    {
     "name": "stdout",
     "output_type": "stream",
     "text": [
      "1 \n",
      "2 4 \n",
      "3 6 9 \n",
      "4 8 12 16 \n",
      "5 10 15 20 25 \n",
      "6 12 18 24 30 36 \n",
      "7 14 21 28 35 42 49 \n",
      "8 16 24 32 40 48 56 64 \n"
     ]
    }
   ],
   "source": [
    "#Q8. 1 \n",
    "#    2 4 \n",
    "#    3 6 9 \n",
    "#    4 8 12 16 \n",
    "#    5 10 15 20 25 \n",
    "#    6 12 18 24 30 36 \n",
    "#    7 14 21 28 35 42 49 \n",
    "#    8 16 24 32 40 48 56 64\n",
    "\n",
    "def pat8(r):  \n",
    "    for i in range(1, r):  \n",
    "        for j in range(1, i+1):    \n",
    "            print(i*j, end=' ')        #printing row and column\n",
    "        print()\n",
    "    \n",
    "pat8(9)"
   ]
  },
  {
   "cell_type": "code",
   "execution_count": 9,
   "metadata": {},
   "outputs": [
    {
     "name": "stdout",
     "output_type": "stream",
     "text": [
      "        * * * * * * \n",
      "         * * * * * \n",
      "          * * * * \n",
      "           * * * \n",
      "            * * \n",
      "             * \n"
     ]
    }
   ],
   "source": [
    "#Q9. * * * * * * \n",
    "#     * * * * * \n",
    "#      * * * * \n",
    "#       * * * \n",
    "#        * * \n",
    "#         *\n",
    "\n",
    "def pat9(n):\n",
    "    \n",
    "    x=2*n-2                                 #number of spaces \n",
    "    for i in range(n, -1, -1):              #outer loop handles number of rows\n",
    "        for j in range(x, 0, -1):           #inner loop handles number of spaces and values will change accordingly\n",
    "            print(end=\" \")\n",
    "        x=x+1    \n",
    "        for j in range(0, i+1):             #inner loop handles number of columns and values will change according to outer loop\n",
    "            print(\"* \" , end=\"\")\n",
    "        print()\n",
    "\n",
    "pat9(5)"
   ]
  },
  {
   "cell_type": "code",
   "execution_count": 10,
   "metadata": {},
   "outputs": [
    {
     "name": "stdout",
     "output_type": "stream",
     "text": [
      "            *   \n",
      "           *  *   \n",
      "          *  *  *   \n",
      "         *  *  *  *   \n",
      "        *  *  *  *  *   \n",
      "       *  *  *  *  *  *   \n",
      "      *  *  *  *  *  *  *   \n"
     ]
    }
   ],
   "source": [
    "#Q10.     * \n",
    "#        *  * \n",
    "#       *  *  * \n",
    "#      *  *  *  * \n",
    "#     *  *  *  *  * \n",
    "#    *  *  *  *  *  * \n",
    "#   *  *  *  *  *  *  *\n",
    " \n",
    "def pat10(r):\n",
    "    x=2*r-2  \n",
    "    for i in range(0, r):  \n",
    "        for j in range(0, x):  \n",
    "            print(end=\" \")  \n",
    "        x=x-1                            #decrementing x after each loop  \n",
    "        for j in range(0, i+1):  \n",
    "            print(\"* \", end=' ')         #printing full Triangle pyramid using stars\n",
    "        print(\" \")\n",
    "    \n",
    "pat10(7)"
   ]
  },
  {
   "cell_type": "code",
   "execution_count": 11,
   "metadata": {},
   "outputs": [
    {
     "name": "stdout",
     "output_type": "stream",
     "text": [
      "* \n",
      "* * \n",
      "* * * \n",
      "* * * * \n",
      "* * * * * \n",
      "* * * * * * \n",
      "\r\n",
      "* * * * * * \n",
      "* * * * * \n",
      "* * * * \n",
      "* * * \n",
      "* * \n",
      "* \n"
     ]
    }
   ],
   "source": [
    "#Q11. * \n",
    "#     * * \n",
    "#     * * * \n",
    "#     * * * * \n",
    "#     * * * * * \n",
    "#     * * * * * * \n",
    "\n",
    "#     * * * * * * \n",
    "#     * * * * * \n",
    "#     * * * * \n",
    "#     * * * \n",
    "#     * * \n",
    "#     *\n",
    "\n",
    "def pat11(n):\n",
    "    for i in range(0, n):                #outer loop handles number of rows\n",
    "        for j in range(0, i + 1):        #inner loop handles number of columns and values will change according to outer loop\n",
    "            print(\"* \", end=\"\")\n",
    "        print()                          #ending line after each row\n",
    "\n",
    "    print(\"\\r\")\n",
    "    for i in range(n, 0 , -1):           #after a gap the outer loop is executing in reversed order\n",
    "        for j in range(0, i):\n",
    "            print(\"* \", end=\"\")\n",
    "        print()\n",
    "\n",
    "pat11(6)"
   ]
  },
  {
   "cell_type": "code",
   "execution_count": 12,
   "metadata": {},
   "outputs": [
    {
     "name": "stdout",
     "output_type": "stream",
     "text": [
      "* \n",
      "* * \n",
      "* * * \n",
      "* * * * \n",
      "* * * * * \n",
      "* * * * \n",
      "* * * \n",
      "* * \n",
      "* \n",
      "\n"
     ]
    }
   ],
   "source": [
    "#Q12. * \n",
    "#     * * \n",
    "#     * * * \n",
    "#     * * * * \n",
    "#     * * * * * \n",
    "#     * * * *  \n",
    "#     * * * \n",
    "#     * * \n",
    "#     * \n",
    "\n",
    "def pat12(n):\n",
    "    for i in range(0, n):                #outer loop handles number of rows\n",
    "        for j in range(0, i + 1):        #inner loop handles number of columns and values will change according to outer loop\n",
    "            print(\"* \", end=\"\")\n",
    "        print()                          #ending line after each row\n",
    "\n",
    "    #print(\"\\n\")\n",
    "    for i in range(n, 0 , -1):           #without any gap the outer loop is executing in reversed order\n",
    "        for j in range(0, i - 1):\n",
    "            print(\"* \", end=\"\")\n",
    "        print()\n",
    "\n",
    "pat12(5)"
   ]
  },
  {
   "cell_type": "code",
   "execution_count": 13,
   "metadata": {},
   "outputs": [
    {
     "name": "stdout",
     "output_type": "stream",
     "text": [
      "        * \n",
      "      * * \n",
      "    * * * \n",
      "  * * * * \n",
      "* * * * * \n",
      "  * * * * \n",
      "    * * * \n",
      "      * * \n",
      "        * \n"
     ]
    }
   ],
   "source": [
    "#Q13.        * \n",
    "#          * * \n",
    "#        * * * \n",
    "#      * * * * \n",
    "#    * * * * * \n",
    "#      * * * * \n",
    "#        * * * \n",
    "#          * * \n",
    "#            *\n",
    "\n",
    "def pat13(n):\n",
    "    x=2*n-2                            #number of spaces\n",
    "    for i in range(0, n-1):            #outer loop handles number of rows\n",
    "        for j in range(0, x):          #inner loop handles number of spaces and values will change accordingly\n",
    "            print(end=\" \")\n",
    "        x=x-2                          #decrementing x after each loop\n",
    "        for j in range(0, i+1):        #inner loop handles number of columns and values will change according to outer loop\n",
    "            print(\"* \", end=\"\")\n",
    "        print()                        #ending line after each row\n",
    "\n",
    "    x=-1\n",
    "    for i in range(n-1, -1, -1):       #without any gap the outer loop is executing in reversed order\n",
    "        for j in range(x, -1, -1):\n",
    "            print(end=\" \")\n",
    "        x=x+2\n",
    "        for j in range(0, i+1):\n",
    "            print(\"* \", end=\"\")\n",
    "        print()\n",
    "\n",
    "pat13(5)"
   ]
  },
  {
   "cell_type": "code",
   "execution_count": 14,
   "metadata": {},
   "outputs": [
    {
     "name": "stdout",
     "output_type": "stream",
     "text": [
      "  * * * * * \n",
      "   * * * * \n",
      "    * * * \n",
      "     * * \n",
      "      * \n",
      "      * \n",
      "     * * \n",
      "    * * * \n",
      "   * * * * \n",
      "  * * * * * \n"
     ]
    }
   ],
   "source": [
    "#Q14. * * * * * \n",
    "#      * * * * \n",
    "#       * * * \n",
    "#        * * \n",
    "#         * \n",
    "#         * \n",
    "#        * * \n",
    "#       * * * \n",
    "#      * * * * \n",
    "#     * * * * * \n",
    "\n",
    "def pat14(n):\n",
    "    \n",
    "    #printing the downward pyramid\n",
    "    x=n-2                                   #number of spaces \n",
    "    for i in range(n, -1, -1):              #outer loop handles number of rows\n",
    "        for j in range(x, 0, -1):           #inner loop handles number of spaces and values will change accordingly\n",
    "            print(end=\" \")\n",
    "        x=x+1    \n",
    "        for j in range(0, i+1):             #inner loop handles number of columns and values will change according to outer loop\n",
    "            print(\"* \" , end=\"\")\n",
    "        print()                             #ending line after each row\n",
    "\n",
    "    #printing the upward pyramid\n",
    "    x=2*n-2\n",
    "    for i in range(0, n+1):                 #without any gap the outer loop is executing in reversed order\n",
    "        for j in range(0, x):\n",
    "            print(end=\" \")\n",
    "        x=x-1\n",
    "        for j in range(0, i+1):\n",
    "            print(\"* \", end=\"\")\n",
    "        print()\n",
    "\n",
    "pat14(4)"
   ]
  },
  {
   "cell_type": "code",
   "execution_count": 15,
   "metadata": {},
   "outputs": [
    {
     "name": "stdout",
     "output_type": "stream",
     "text": [
      "**************\n",
      "******__******\n",
      "*****____*****\n",
      "****______****\n",
      "***________***\n",
      "**__________**\n",
      "*____________*\n"
     ]
    }
   ],
   "source": [
    "#Q15. ****************\n",
    "#     *******__*******\n",
    "#     ******____******\n",
    "#     *****______*****\n",
    "#     ****________****\n",
    "#     ***__________***\n",
    "#     **____________**\n",
    "#     *______________*\n",
    "\n",
    "r = 14\n",
    "print(\"*\" * r, end=\"\\n\")\n",
    "i=(r//2)-1\n",
    "j=2\n",
    "while i != 0:\n",
    "    while j<=(r-2):\n",
    "        print(\"*\" * i, end=\"\")\n",
    "        print(\"_\" * j, end=\"\")\n",
    "        print(\"*\" * i, end=\"\\n\")\n",
    "        i=i-1\n",
    "        j=j+2"
   ]
  }
 ],
 "metadata": {
  "kernelspec": {
   "display_name": "Python 3",
   "language": "python",
   "name": "python3"
  },
  "language_info": {
   "codemirror_mode": {
    "name": "ipython",
    "version": 3
   },
   "file_extension": ".py",
   "mimetype": "text/x-python",
   "name": "python",
   "nbconvert_exporter": "python",
   "pygments_lexer": "ipython3",
   "version": "3.8.5"
  }
 },
 "nbformat": 4,
 "nbformat_minor": 4
}
